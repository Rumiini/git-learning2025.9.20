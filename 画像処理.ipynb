{
  "nbformat": 4,
  "nbformat_minor": 0,
  "metadata": {
    "colab": {
      "provenance": [],
      "authorship_tag": "ABX9TyM6Tswd3GXixqufWu1WR67F",
      "include_colab_link": true
    },
    "kernelspec": {
      "name": "python3",
      "display_name": "Python 3"
    },
    "language_info": {
      "name": "python"
    }
  },
  "cells": [
    {
      "cell_type": "markdown",
      "metadata": {
        "id": "view-in-github",
        "colab_type": "text"
      },
      "source": [
        "<a href=\"https://colab.research.google.com/github/Rumiini/git-learning2025.9.20/blob/main/%E7%94%BB%E5%83%8F%E5%87%A6%E7%90%86.ipynb\" target=\"_parent\"><img src=\"https://colab.research.google.com/assets/colab-badge.svg\" alt=\"Open In Colab\"/></a>"
      ]
    },
    {
      "cell_type": "code",
      "execution_count": 1,
      "metadata": {
        "id": "wI9kPl-C4qFC"
      },
      "outputs": [],
      "source": [
        "import cv2"
      ]
    },
    {
      "cell_type": "code",
      "source": [
        "def Clahe(img_name):\n",
        "    img = cv2.imread(img_name) # 画像を読み込む\n",
        "\n",
        "    img_yuv = cv2.cvtColor(img, cv2.COLOR_BGR2YUV) # RGB => YUV(YCbCr)\n",
        "    clahe = cv2.createCLAHE(clipLimit=2.0, tileGridSize=(8,8)) # claheオブジェクトを生成\n",
        "    img_yuv[:,:,0] = clahe.apply(img_yuv[:,:,0]) # 輝度にのみヒストグラム平坦化\n",
        "    img = cv2.cvtColor(img_yuv, cv2.COLOR_YUV2BGR) # YUV => RGB\n",
        "    cv2.imwrite(\"out_img.jpg\", img) # 書き出す"
      ],
      "metadata": {
        "id": "JMqQArXC5CfU"
      },
      "execution_count": 2,
      "outputs": []
    },
    {
      "cell_type": "code",
      "source": [
        "Clahe(\"/content/典型的な赤.jpg\")"
      ],
      "metadata": {
        "id": "WwH_sa-i5MET"
      },
      "execution_count": 6,
      "outputs": []
    },
    {
      "cell_type": "code",
      "source": [
        "import numpy as np\n",
        "\n",
        "# 赤色は２つの領域にまたがります！！\n",
        "# np.array([色彩, 彩度, 明度])\n",
        "# 各値は適宜設定する！！\n",
        "LOW_COLOR1 = np.array([0, 50, 50]) # 各最小値を指定\n",
        "HIGH_COLOR1 = np.array([6, 255, 255]) # 各最大値を指定\n",
        "LOW_COLOR2 = np.array([174, 50, 50])\n",
        "HIGH_COLOR2 = np.array([180, 255, 255])\n",
        "\n",
        "def Clahe(img_name):\n",
        "    img = cv2.imread(img_name) # 画像を読み込む\n",
        "\n",
        "    img_yuv = cv2.cvtColor(img, cv2.COLOR_BGR2YUV) # RGB => YUV(YCbCr)\n",
        "    clahe = cv2.createCLAHE(clipLimit=2.0, tileGridSize=(8,8)) # claheオブジェクトを生成\n",
        "    img_yuv[:,:,0] = clahe.apply(img_yuv[:,:,0]) # 輝度にのみヒストグラム平坦化\n",
        "    img = cv2.cvtColor(img_yuv, cv2.COLOR_YUV2BGR) # YUV => RGB\n",
        "\n",
        "    hsv = cv2.cvtColor(img, cv2.COLOR_BGR2HSV) # BGRからHSVに変換\n",
        "\n",
        "    bin_img1 = cv2.inRange(hsv, LOW_COLOR1, HIGH_COLOR1) # マスクを作成\n",
        "    bin_img2 = cv2.inRange(hsv, LOW_COLOR2, HIGH_COLOR2)\n",
        "    mask = bin_img1 + bin_img2 # 必要ならマスクを足し合わせる\n",
        "    masked_img = cv2.bitwise_and(img, img, mask= mask) # 元画像から特定の色を抽出\n",
        "    cv2.imwrite(\"out_img.jpg\", masked_img) # 書き出す"
      ],
      "metadata": {
        "id": "nuceIOJK_n6z"
      },
      "execution_count": 7,
      "outputs": []
    },
    {
      "cell_type": "code",
      "source": [
        "Clahe(\"/content/典型的な赤.jpg\")"
      ],
      "metadata": {
        "id": "tmWvhIjW_p7c"
      },
      "execution_count": 8,
      "outputs": []
    }
  ]
}